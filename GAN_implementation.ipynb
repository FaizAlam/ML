{
  "nbformat": 4,
  "nbformat_minor": 0,
  "metadata": {
    "colab": {
      "name": "GAN_implementation.ipynb",
      "provenance": [],
      "collapsed_sections": [],
      "authorship_tag": "ABX9TyPqdcBYr0b0uruedypR+wyk",
      "include_colab_link": true
    },
    "kernelspec": {
      "name": "python3",
      "display_name": "Python 3"
    },
    "language_info": {
      "name": "python"
    }
  },
  "cells": [
    {
      "cell_type": "markdown",
      "metadata": {
        "id": "view-in-github",
        "colab_type": "text"
      },
      "source": [
        "<a href=\"https://colab.research.google.com/github/FaizAlam/ML/blob/main/GAN_implementation.ipynb\" target=\"_parent\"><img src=\"https://colab.research.google.com/assets/colab-badge.svg\" alt=\"Open In Colab\"/></a>"
      ]
    },
    {
      "cell_type": "code",
      "source": [
        "!pip3 install --pre torch torchvision torchaudio -f https://download.pytorch.org/whl/nightly/cpu/torch_nightly.html"
      ],
      "metadata": {
        "id": "-waDsdYV5x7B"
      },
      "execution_count": null,
      "outputs": []
    },
    {
      "cell_type": "code",
      "execution_count": 19,
      "metadata": {
        "id": "PKGqhuXbTwwW"
      },
      "outputs": [],
      "source": [
        "import torch\n",
        "import torch.nn as nn\n",
        "import torch.optim as optim\n",
        "import torchvision\n",
        "import torchvision.datasets as datasets\n",
        "from torch.utils.data import DataLoader\n",
        "import torchvision.transforms as transforms\n",
        "from torch.utils.tensorboard import SummaryWriter  # to print to tensorboard\n"
      ]
    },
    {
      "cell_type": "code",
      "source": [
        "print(torch.__version__)"
      ],
      "metadata": {
        "colab": {
          "base_uri": "https://localhost:8080/"
        },
        "id": "ACtq9HzN4QVr",
        "outputId": "717d22ff-b0d0-4e01-8da1-d45be17cc113"
      },
      "execution_count": 20,
      "outputs": [
        {
          "output_type": "stream",
          "name": "stdout",
          "text": [
            "1.10.0+cu111\n"
          ]
        }
      ]
    },
    {
      "cell_type": "code",
      "source": [
        "class Discriminator(nn.Module):\n",
        "  def __init__(self,img_dim):\n",
        "    super().__init__()\n",
        "    self.disc = nn.Sequential(\n",
        "        nn.Linear(img_dim,128),\n",
        "        nn.LeakyReLU(0.1),\n",
        "        nn.Linear(128,1),\n",
        "        nn.Sigmoid(),\n",
        "    )\n",
        "  \n",
        "  def forward(self,x):\n",
        "    return self.disc(x)\n",
        "  \n",
        "\n",
        "class Generator(nn.Module):\n",
        "  def __init__(self,z_dim,img_dim):\n",
        "    super().__init__()\n",
        "    self.gen = nn.Sequential(\n",
        "        nn.Linear(z_dim,256),\n",
        "        nn.LeakyReLU(0.1),\n",
        "        nn.Linear(256,img_dim), # 28 x 28 x 1 \n",
        "        nn.Tanh(),\n",
        "    )\n",
        "  \n",
        "  def forward(self,x):\n",
        "    return self.gen(x)\n",
        "  \n",
        "  "
      ],
      "metadata": {
        "id": "bvUxdipHE3gT"
      },
      "execution_count": 21,
      "outputs": []
    },
    {
      "cell_type": "code",
      "source": [
        "#hyper parameters etc.\n",
        "#GANs are extremely sensitive to hyper paramters\n",
        "device = \"cuda\" if torch.cuda.is_available() else \"cpu\"\n",
        "lr = 3e-4\n",
        "z_dim = 64 # 128,256 anything\n",
        "image_dim = 28 * 28 * 1\n",
        "batch_size = 32\n",
        "num_epochs = 50"
      ],
      "metadata": {
        "id": "vFy4lgNUIrUh"
      },
      "execution_count": 22,
      "outputs": []
    },
    {
      "cell_type": "code",
      "source": [
        "disc = Discriminator(image_dim).to(device)\n",
        "gen = Generator(z_dim,image_dim).to(device)\n",
        "fixed_noise = torch.randn((batch_size,z_dim)).to(device)\n",
        "transforms = transforms.Compose(\n",
        "    [transforms.ToTensor(), transforms.Normalize((0.5,), (0.5,)),]\n",
        ")\n",
        "\n",
        "dataset = datasets.MNIST(root=\"dataset/\",transform=transforms,download=True)\n",
        "loader = DataLoader(dataset,batch_size=batch_size,shuffle=True)\n",
        "opt_disc = optim.Adam(disc.parameters(),lr=lr)\n",
        "opt_gen = optim.Adam(gen.parameters(),lr=lr)\n",
        "criterion = nn.BCELoss()\n",
        "writer_fake = SummaryWriter(f\"runs/GAN_MNIST/fake\")\n",
        "writer_real = SummaryWriter(f\"runs/GAN_MNIST/real\")\n",
        "step = 0\n"
      ],
      "metadata": {
        "id": "k4jK6jiuQ5Hx"
      },
      "execution_count": 23,
      "outputs": []
    },
    {
      "cell_type": "code",
      "source": [
        "for epoch in range(num_epochs):\n",
        "  for batch_idx, (real,_) in enumerate(loader):\n",
        "    real = real.view(-1,784).to(device)\n",
        "    batch_size = real.shape[0]\n",
        "\n",
        "    ### Train Discriminator : maximize log(D(real)) + log(1-D(G(z)))\n",
        "    noise = torch.randn(batch_size,z_dim).to(device)\n",
        "    fake = gen(noise)\n",
        "    disc_real = disc(real).view(-1)\n",
        "    lossD_real = criterion(disc_real,torch.ones_like(disc_real))\n",
        "    disc_fake = disc(fake).view(-1)\n",
        "    lossD_fake = criterion(disc_fake,torch.zeros_like(disc_fake))\n",
        "    lossD = (lossD_real + lossD_fake)/2\n",
        "    disc.zero_grad()\n",
        "    lossD.backward(retain_graph=True)\n",
        "    opt_disc.step()\n",
        "\n",
        "    ### Train Generator : minimizee log(1-D(G(z))) <-> maximize log(D(G(z)))\n",
        "    output = disc(fake).view(-1)\n",
        "    lossG = criterion(output,torch.ones_like(output))\n",
        "    gen.zero_grad()\n",
        "    lossG.backward()\n",
        "    opt_gen.step()\n",
        "\n",
        "    if batch_idx ==0:\n",
        "      print(\n",
        "          f\"Epoch [{epoch}/{num_epochs}] \\ \"\n",
        "          f\"Loss D : {lossD:.4f}, Loss G : {lossG:.4f}\"\n",
        "      )\n",
        "      with torch.no_grad():\n",
        "        fake = gen(fixed_noise).reshape(-1,1,28,28)\n",
        "        data = real.reshape(-1,1,28,28)\n",
        "        img_grid_fake = torchvision.utils.make_grid(fake,normalize=True)\n",
        "        img_grid_real = torchvision.utils.make_grid(data,normalize=True)\n",
        "\n",
        "        writer_fake.add_image(\n",
        "            \"Mnist Fake Image\",img_grid_fake,global_step = step\n",
        "        )\n",
        "        writer_real.add_image(\n",
        "            \"Mnist Fake Image\",img_grid_real,global_step = step\n",
        "        )\n",
        "        step+=1\n"
      ],
      "metadata": {
        "id": "Qo4mBpjuJhfv"
      },
      "execution_count": null,
      "outputs": []
    },
    {
      "cell_type": "code",
      "source": [
        ""
      ],
      "metadata": {
        "id": "V-BmBlJCCBE8"
      },
      "execution_count": null,
      "outputs": []
    }
  ]
}